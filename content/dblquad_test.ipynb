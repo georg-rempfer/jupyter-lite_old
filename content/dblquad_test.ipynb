{
  "metadata": {
    "kernelspec": {
      "name": "python",
      "display_name": "Python (Pyodide)",
      "language": "python"
    },
    "language_info": {
      "codemirror_mode": {
        "name": "python",
        "version": 3
      },
      "file_extension": ".py",
      "mimetype": "text/x-python",
      "name": "python",
      "nbconvert_exporter": "python",
      "pygments_lexer": "ipython3",
      "version": "3.8"
    }
  },
  "nbformat_minor": 4,
  "nbformat": 4,
  "cells": [
    {
      "cell_type": "code",
      "source": "import scipy\nscipy.__version__",
      "metadata": {
        "trusted": true
      },
      "outputs": [],
      "execution_count": null
    },
    {
      "cell_type": "markdown",
      "source": "Integrate 1 over a unit square, effectively calculating the area. This should yield 1.",
      "metadata": {}
    },
    {
      "cell_type": "code",
      "source": "unit_square_area = scipy.integrate.dblquad(lambda y,x: 1, 0, 1, lambda x: 0, lambda x: 1)",
      "metadata": {
        "trusted": true
      },
      "outputs": [],
      "execution_count": null
    },
    {
      "cell_type": "code",
      "source": "assert abs(unit_square_area[0]-1) < unit_square_area[1], 'Unit square area calculated using scipy.integrate.dblquad of {} (+- {}) is too far from 1.0'.format(unit_square_area[0], unit_square_area[0])",
      "metadata": {
        "trusted": true
      },
      "outputs": [],
      "execution_count": null
    }
  ]
}